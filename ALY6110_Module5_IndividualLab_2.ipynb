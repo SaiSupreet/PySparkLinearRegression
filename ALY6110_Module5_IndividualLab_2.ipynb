{
  "cells": [
    {
      "cell_type": "code",
      "execution_count": 1,
      "metadata": {
        "id": "kP5MFo7WFkW0"
      },
      "outputs": [],
      "source": [
        "# install java\n",
        "!apt-get install openjdk-8-jdk-headless -qq > /dev/null\n",
        "\n",
        "# install spark (change the version number if needed)\n",
        "!wget -q https://archive.apache.org/dist/spark/spark-3.0.0/spark-3.0.0-bin-hadoop3.2.tgz\n",
        "\n",
        "# unzip the spark file to the current folder\n",
        "!tar xf spark-3.0.0-bin-hadoop3.2.tgz"
      ]
    },
    {
      "cell_type": "code",
      "execution_count": 2,
      "metadata": {
        "id": "vuVoxjd0FnQX"
      },
      "outputs": [],
      "source": [
        "# set your spark folder to your system path environment. \n",
        "import os\n",
        "os.environ[\"JAVA_HOME\"] = \"/usr/lib/jvm/java-8-openjdk-amd64\"\n",
        "os.environ[\"SPARK_HOME\"] = \"/content/spark-3.0.0-bin-hadoop3.2\"\n"
      ]
    },
    {
      "cell_type": "code",
      "execution_count": 3,
      "metadata": {
        "id": "qErn-Tj3GpqE"
      },
      "outputs": [],
      "source": [
        "# install findspark using pip\n",
        "!pip install -q findspark"
      ]
    },
    {
      "cell_type": "code",
      "execution_count": 4,
      "metadata": {
        "id": "gMoUcZLtGqA5"
      },
      "outputs": [],
      "source": [
        "import findspark"
      ]
    },
    {
      "cell_type": "code",
      "execution_count": 5,
      "metadata": {
        "id": "ltmxDBxsGzpz"
      },
      "outputs": [],
      "source": [
        "findspark.init()"
      ]
    },
    {
      "cell_type": "code",
      "execution_count": 6,
      "metadata": {
        "id": "XCPW39avG2xa"
      },
      "outputs": [],
      "source": [
        "from pyspark.sql import SparkSession"
      ]
    },
    {
      "cell_type": "code",
      "execution_count": 7,
      "metadata": {
        "id": "0xHJBH-VHSJq"
      },
      "outputs": [],
      "source": [
        "# Create SparkSession from builder\n",
        "\n",
        "spark1 = SparkSession.builder.master(\"local[*]\").getOrCreate()"
      ]
    },
    {
      "cell_type": "code",
      "execution_count": 8,
      "metadata": {
        "colab": {
          "base_uri": "https://localhost:8080/",
          "height": 219
        },
        "id": "L6Q3-qbMNLfQ",
        "outputId": "f90398ec-886c-4d33-92e0-c3e0513a3c55"
      },
      "outputs": [
        {
          "output_type": "execute_result",
          "data": {
            "text/plain": [
              "<pyspark.sql.session.SparkSession at 0x7f83984c4af0>"
            ],
            "text/html": [
              "\n",
              "            <div>\n",
              "                <p><b>SparkSession - in-memory</b></p>\n",
              "                \n",
              "        <div>\n",
              "            <p><b>SparkContext</b></p>\n",
              "\n",
              "            <p><a href=\"http://7b78fd8c2c3d:4040\">Spark UI</a></p>\n",
              "\n",
              "            <dl>\n",
              "              <dt>Version</dt>\n",
              "                <dd><code>v3.0.0</code></dd>\n",
              "              <dt>Master</dt>\n",
              "                <dd><code>local[*]</code></dd>\n",
              "              <dt>AppName</dt>\n",
              "                <dd><code>pyspark-shell</code></dd>\n",
              "            </dl>\n",
              "        </div>\n",
              "        \n",
              "            </div>\n",
              "        "
            ]
          },
          "metadata": {},
          "execution_count": 8
        }
      ],
      "source": [
        "spark1"
      ]
    },
    {
      "cell_type": "code",
      "execution_count": 9,
      "metadata": {
        "colab": {
          "base_uri": "https://localhost:8080/"
        },
        "id": "ijSMbP00NRjk",
        "outputId": "c35b3414-fab1-48ad-9d44-396fb56985c6"
      },
      "outputs": [
        {
          "output_type": "stream",
          "name": "stdout",
          "text": [
            "+---------+\n",
            "|namespace|\n",
            "+---------+\n",
            "|  default|\n",
            "+---------+\n",
            "\n"
          ]
        }
      ],
      "source": [
        "df1 = spark1.sql(\"show databases\")\n",
        "df1.show()"
      ]
    },
    {
      "cell_type": "code",
      "source": [
        "from google.colab import drive\n",
        "drive.mount('/content/drive/')"
      ],
      "metadata": {
        "colab": {
          "base_uri": "https://localhost:8080/"
        },
        "id": "g70BxAUes7FD",
        "outputId": "e559563d-afcf-4329-89ad-af3383addd95"
      },
      "execution_count": 10,
      "outputs": [
        {
          "output_type": "stream",
          "name": "stdout",
          "text": [
            "Drive already mounted at /content/drive/; to attempt to forcibly remount, call drive.mount(\"/content/drive/\", force_remount=True).\n"
          ]
        }
      ]
    },
    {
      "cell_type": "code",
      "execution_count": 11,
      "metadata": {
        "id": "3k2c_Qw8DFSV"
      },
      "outputs": [],
      "source": [
        "from google.colab import files\n",
        "path = r'/content/drive/MyDrive/Colab Notebooks/BostonHousing.csv'\n",
        "df_boston = spark1.read.csv(path, inferSchema = True, header = True)"
      ]
    },
    {
      "cell_type": "code",
      "execution_count": 12,
      "metadata": {
        "id": "loNAxpGGD1dg",
        "colab": {
          "base_uri": "https://localhost:8080/"
        },
        "outputId": "d8800b85-44e0-47ed-b828-2bd27ea935de"
      },
      "outputs": [
        {
          "output_type": "stream",
          "name": "stdout",
          "text": [
            "+-------+----+-----+----+-----+-----+----+------+---+---+-------+------+-----+----+\n",
            "|   crim|  zn|indus|chas|  nox|   rm| age|   dis|rad|tax|ptratio|     b|lstat|medv|\n",
            "+-------+----+-----+----+-----+-----+----+------+---+---+-------+------+-----+----+\n",
            "|0.00632|18.0| 2.31|   0|0.538|6.575|65.2|  4.09|  1|296|   15.3| 396.9| 4.98|24.0|\n",
            "|0.02731| 0.0| 7.07|   0|0.469|6.421|78.9|4.9671|  2|242|   17.8| 396.9| 9.14|21.6|\n",
            "|0.02729| 0.0| 7.07|   0|0.469|7.185|61.1|4.9671|  2|242|   17.8|392.83| 4.03|34.7|\n",
            "|0.03237| 0.0| 2.18|   0|0.458|6.998|45.8|6.0622|  3|222|   18.7|394.63| 2.94|33.4|\n",
            "|0.06905| 0.0| 2.18|   0|0.458|7.147|54.2|6.0622|  3|222|   18.7| 396.9| 5.33|36.2|\n",
            "+-------+----+-----+----+-----+-----+----+------+---+---+-------+------+-----+----+\n",
            "only showing top 5 rows\n",
            "\n"
          ]
        }
      ],
      "source": [
        "df_boston.show(5)"
      ]
    },
    {
      "cell_type": "code",
      "execution_count": 13,
      "metadata": {
        "id": "7h7WewedE7Qq",
        "colab": {
          "base_uri": "https://localhost:8080/"
        },
        "outputId": "163ae1f7-9d2e-47b1-9d6b-2f45814d8cb7"
      },
      "outputs": [
        {
          "output_type": "execute_result",
          "data": {
            "text/plain": [
              "506"
            ]
          },
          "metadata": {},
          "execution_count": 13
        }
      ],
      "source": [
        "df_boston.count()"
      ]
    },
    {
      "cell_type": "code",
      "execution_count": 14,
      "metadata": {
        "id": "ga0nfCDBFKuh",
        "colab": {
          "base_uri": "https://localhost:8080/"
        },
        "outputId": "005be76c-4813-481b-a7fc-3db82b6c945c"
      },
      "outputs": [
        {
          "output_type": "stream",
          "name": "stdout",
          "text": [
            "root\n",
            " |-- crim: double (nullable = true)\n",
            " |-- zn: double (nullable = true)\n",
            " |-- indus: double (nullable = true)\n",
            " |-- chas: integer (nullable = true)\n",
            " |-- nox: double (nullable = true)\n",
            " |-- rm: double (nullable = true)\n",
            " |-- age: double (nullable = true)\n",
            " |-- dis: double (nullable = true)\n",
            " |-- rad: integer (nullable = true)\n",
            " |-- tax: integer (nullable = true)\n",
            " |-- ptratio: double (nullable = true)\n",
            " |-- b: double (nullable = true)\n",
            " |-- lstat: double (nullable = true)\n",
            " |-- medv: double (nullable = true)\n",
            "\n"
          ]
        }
      ],
      "source": [
        "df_boston.printSchema()"
      ]
    },
    {
      "cell_type": "code",
      "execution_count": 15,
      "metadata": {
        "id": "iEFhv5UBFRPC"
      },
      "outputs": [],
      "source": [
        "#df_boston = df_boston.drop(df_boston.b)"
      ]
    },
    {
      "cell_type": "code",
      "execution_count": 16,
      "metadata": {
        "id": "nrTjPPsnFXAJ",
        "colab": {
          "base_uri": "https://localhost:8080/"
        },
        "outputId": "b19107af-d441-47c4-c86a-280d15047e0b"
      },
      "outputs": [
        {
          "output_type": "stream",
          "name": "stdout",
          "text": [
            "+-------+----+-----+----+-----+-----+----+------+---+---+-------+------+-----+----+\n",
            "|   crim|  zn|indus|chas|  nox|   rm| age|   dis|rad|tax|ptratio|     b|lstat|medv|\n",
            "+-------+----+-----+----+-----+-----+----+------+---+---+-------+------+-----+----+\n",
            "|0.00632|18.0| 2.31|   0|0.538|6.575|65.2|  4.09|  1|296|   15.3| 396.9| 4.98|24.0|\n",
            "|0.02731| 0.0| 7.07|   0|0.469|6.421|78.9|4.9671|  2|242|   17.8| 396.9| 9.14|21.6|\n",
            "|0.02729| 0.0| 7.07|   0|0.469|7.185|61.1|4.9671|  2|242|   17.8|392.83| 4.03|34.7|\n",
            "|0.03237| 0.0| 2.18|   0|0.458|6.998|45.8|6.0622|  3|222|   18.7|394.63| 2.94|33.4|\n",
            "|0.06905| 0.0| 2.18|   0|0.458|7.147|54.2|6.0622|  3|222|   18.7| 396.9| 5.33|36.2|\n",
            "+-------+----+-----+----+-----+-----+----+------+---+---+-------+------+-----+----+\n",
            "only showing top 5 rows\n",
            "\n"
          ]
        }
      ],
      "source": [
        "df_boston.show(5)"
      ]
    },
    {
      "cell_type": "code",
      "execution_count": 17,
      "metadata": {
        "id": "xxkQPxEgJSAG"
      },
      "outputs": [],
      "source": [
        "from pyspark.sql.functions import round, col"
      ]
    },
    {
      "cell_type": "code",
      "execution_count": 18,
      "metadata": {
        "id": "F7iW1yJOFb1S"
      },
      "outputs": [],
      "source": [
        "for cols in df_boston.columns:\n",
        "  df_boston = df_boston.withColumn(cols, round(cols,2))"
      ]
    },
    {
      "cell_type": "code",
      "execution_count": 19,
      "metadata": {
        "id": "9iV3QWN2JmL5",
        "colab": {
          "base_uri": "https://localhost:8080/"
        },
        "outputId": "58eab502-c0d0-42ab-c9d9-d289eb77c1ca"
      },
      "outputs": [
        {
          "output_type": "stream",
          "name": "stdout",
          "text": [
            "+----+----+-----+----+----+----+----+----+---+---+-------+------+-----+----+\n",
            "|crim|  zn|indus|chas| nox|  rm| age| dis|rad|tax|ptratio|     b|lstat|medv|\n",
            "+----+----+-----+----+----+----+----+----+---+---+-------+------+-----+----+\n",
            "|0.01|18.0| 2.31|   0|0.54|6.58|65.2|4.09|  1|296|   15.3| 396.9| 4.98|24.0|\n",
            "|0.03| 0.0| 7.07|   0|0.47|6.42|78.9|4.97|  2|242|   17.8| 396.9| 9.14|21.6|\n",
            "|0.03| 0.0| 7.07|   0|0.47|7.19|61.1|4.97|  2|242|   17.8|392.83| 4.03|34.7|\n",
            "|0.03| 0.0| 2.18|   0|0.46| 7.0|45.8|6.06|  3|222|   18.7|394.63| 2.94|33.4|\n",
            "|0.07| 0.0| 2.18|   0|0.46|7.15|54.2|6.06|  3|222|   18.7| 396.9| 5.33|36.2|\n",
            "+----+----+-----+----+----+----+----+----+---+---+-------+------+-----+----+\n",
            "only showing top 5 rows\n",
            "\n"
          ]
        }
      ],
      "source": [
        "df_boston.show(5)"
      ]
    },
    {
      "cell_type": "code",
      "execution_count": 20,
      "metadata": {
        "id": "2JRB-TZ5Jn0q"
      },
      "outputs": [],
      "source": [
        "from pyspark.sql.functions import lit"
      ]
    },
    {
      "cell_type": "code",
      "execution_count": 21,
      "metadata": {
        "id": "Pxcdqv14JzGB"
      },
      "outputs": [],
      "source": [
        "df_boston = df_boston.withColumn(\"Age10\", lit(df_boston.age + (df_boston.age*0.1)))\n",
        "for cols in df_boston.columns:\n",
        "  df_boston = df_boston.withColumn(cols, round(cols,2))"
      ]
    },
    {
      "cell_type": "code",
      "execution_count": 22,
      "metadata": {
        "id": "9wq-ssJwKG62",
        "colab": {
          "base_uri": "https://localhost:8080/"
        },
        "outputId": "4143ecd8-5bce-45fb-9727-a9f43924fa0e"
      },
      "outputs": [
        {
          "output_type": "stream",
          "name": "stdout",
          "text": [
            "+----+----+-----+----+----+----+----+----+---+---+-------+------+-----+----+-----+\n",
            "|crim|  zn|indus|chas| nox|  rm| age| dis|rad|tax|ptratio|     b|lstat|medv|Age10|\n",
            "+----+----+-----+----+----+----+----+----+---+---+-------+------+-----+----+-----+\n",
            "|0.01|18.0| 2.31|   0|0.54|6.58|65.2|4.09|  1|296|   15.3| 396.9| 4.98|24.0|71.72|\n",
            "|0.03| 0.0| 7.07|   0|0.47|6.42|78.9|4.97|  2|242|   17.8| 396.9| 9.14|21.6|86.79|\n",
            "|0.03| 0.0| 7.07|   0|0.47|7.19|61.1|4.97|  2|242|   17.8|392.83| 4.03|34.7|67.21|\n",
            "|0.03| 0.0| 2.18|   0|0.46| 7.0|45.8|6.06|  3|222|   18.7|394.63| 2.94|33.4|50.38|\n",
            "|0.07| 0.0| 2.18|   0|0.46|7.15|54.2|6.06|  3|222|   18.7| 396.9| 5.33|36.2|59.62|\n",
            "+----+----+-----+----+----+----+----+----+---+---+-------+------+-----+----+-----+\n",
            "only showing top 5 rows\n",
            "\n"
          ]
        }
      ],
      "source": [
        "df_boston.show(5)"
      ]
    },
    {
      "cell_type": "code",
      "execution_count": 23,
      "metadata": {
        "id": "pfBpserUKLTm"
      },
      "outputs": [],
      "source": [
        "import matplotlib.pyplot as plt\n",
        "import seaborn as sns"
      ]
    },
    {
      "cell_type": "code",
      "execution_count": 24,
      "metadata": {
        "id": "ZexKLLsjTMp5",
        "colab": {
          "base_uri": "https://localhost:8080/"
        },
        "outputId": "a8220604-5565-4a43-a437-20f5b26567a0"
      },
      "outputs": [
        {
          "output_type": "stream",
          "name": "stdout",
          "text": [
            "+---------+\n",
            "|namespace|\n",
            "+---------+\n",
            "|  default|\n",
            "+---------+\n",
            "\n"
          ]
        }
      ],
      "source": [
        "spark1.sql(\"show databases\").show()"
      ]
    },
    {
      "cell_type": "code",
      "execution_count": 25,
      "metadata": {
        "id": "NCurVr0fTxol",
        "colab": {
          "base_uri": "https://localhost:8080/"
        },
        "outputId": "e2dcdbd0-d7c7-4d91-c5ef-44e4baf1b365"
      },
      "outputs": [
        {
          "output_type": "execute_result",
          "data": {
            "text/plain": [
              "DataFrame[]"
            ]
          },
          "metadata": {},
          "execution_count": 25
        }
      ],
      "source": [
        "spark1.sql(\"CREATE DATABASE BostonH\")"
      ]
    },
    {
      "cell_type": "code",
      "execution_count": 26,
      "metadata": {
        "id": "lkketVt8Tmn9"
      },
      "outputs": [],
      "source": [
        "df_db = spark1.sql(\"show databases\")"
      ]
    },
    {
      "cell_type": "code",
      "execution_count": 27,
      "metadata": {
        "id": "ZS42ErZ9T_TW",
        "colab": {
          "base_uri": "https://localhost:8080/"
        },
        "outputId": "16385771-0c12-40e8-8a49-d80955261359"
      },
      "outputs": [
        {
          "output_type": "stream",
          "name": "stdout",
          "text": [
            "+---------+\n",
            "|namespace|\n",
            "+---------+\n",
            "|  bostonh|\n",
            "|  default|\n",
            "+---------+\n",
            "\n"
          ]
        }
      ],
      "source": [
        "df_db.show()"
      ]
    },
    {
      "cell_type": "code",
      "execution_count": 28,
      "metadata": {
        "id": "2lUaFZDBUJmb"
      },
      "outputs": [],
      "source": [
        "df2 = spark1.read.csv(path, inferSchema = True, header = True)"
      ]
    },
    {
      "cell_type": "code",
      "execution_count": 29,
      "metadata": {
        "id": "5U8uKzp_Ujwt"
      },
      "outputs": [],
      "source": [
        "df2.write.mode(\"overwrite\").saveAsTable(\"bostonh.bos_housing\")"
      ]
    },
    {
      "cell_type": "code",
      "execution_count": 30,
      "metadata": {
        "id": "GCBik5KAUw3Q",
        "colab": {
          "base_uri": "https://localhost:8080/"
        },
        "outputId": "a61e19e0-9a65-4d7e-e8ba-2bbf7c42cc17"
      },
      "outputs": [
        {
          "output_type": "stream",
          "name": "stdout",
          "text": [
            "+-------+----+-----+----+-----+-----+-----+------+---+---+-------+------+-----+----+\n",
            "|   crim|  zn|indus|chas|  nox|   rm|  age|   dis|rad|tax|ptratio|     b|lstat|medv|\n",
            "+-------+----+-----+----+-----+-----+-----+------+---+---+-------+------+-----+----+\n",
            "|0.00632|18.0| 2.31|   0|0.538|6.575| 65.2|  4.09|  1|296|   15.3| 396.9| 4.98|24.0|\n",
            "|0.02731| 0.0| 7.07|   0|0.469|6.421| 78.9|4.9671|  2|242|   17.8| 396.9| 9.14|21.6|\n",
            "|0.02729| 0.0| 7.07|   0|0.469|7.185| 61.1|4.9671|  2|242|   17.8|392.83| 4.03|34.7|\n",
            "|0.03237| 0.0| 2.18|   0|0.458|6.998| 45.8|6.0622|  3|222|   18.7|394.63| 2.94|33.4|\n",
            "|0.06905| 0.0| 2.18|   0|0.458|7.147| 54.2|6.0622|  3|222|   18.7| 396.9| 5.33|36.2|\n",
            "|0.02985| 0.0| 2.18|   0|0.458| 6.43| 58.7|6.0622|  3|222|   18.7|394.12| 5.21|28.7|\n",
            "|0.08829|12.5| 7.87|   0|0.524|6.012| 66.6|5.5605|  5|311|   15.2| 395.6|12.43|22.9|\n",
            "|0.14455|12.5| 7.87|   0|0.524|6.172| 96.1|5.9505|  5|311|   15.2| 396.9|19.15|27.1|\n",
            "|0.21124|12.5| 7.87|   0|0.524|5.631|100.0|6.0821|  5|311|   15.2|386.63|29.93|16.5|\n",
            "|0.17004|12.5| 7.87|   0|0.524|6.004| 85.9|6.5921|  5|311|   15.2|386.71| 17.1|18.9|\n",
            "|0.22489|12.5| 7.87|   0|0.524|6.377| 94.3|6.3467|  5|311|   15.2|392.52|20.45|15.0|\n",
            "|0.11747|12.5| 7.87|   0|0.524|6.009| 82.9|6.2267|  5|311|   15.2| 396.9|13.27|18.9|\n",
            "|0.09378|12.5| 7.87|   0|0.524|5.889| 39.0|5.4509|  5|311|   15.2| 390.5|15.71|21.7|\n",
            "|0.62976| 0.0| 8.14|   0|0.538|5.949| 61.8|4.7075|  4|307|   21.0| 396.9| 8.26|20.4|\n",
            "|0.63796| 0.0| 8.14|   0|0.538|6.096| 84.5|4.4619|  4|307|   21.0|380.02|10.26|18.2|\n",
            "|0.62739| 0.0| 8.14|   0|0.538|5.834| 56.5|4.4986|  4|307|   21.0|395.62| 8.47|19.9|\n",
            "|1.05393| 0.0| 8.14|   0|0.538|5.935| 29.3|4.4986|  4|307|   21.0|386.85| 6.58|23.1|\n",
            "| 0.7842| 0.0| 8.14|   0|0.538| 5.99| 81.7|4.2579|  4|307|   21.0|386.75|14.67|17.5|\n",
            "|0.80271| 0.0| 8.14|   0|0.538|5.456| 36.6|3.7965|  4|307|   21.0|288.99|11.69|20.2|\n",
            "| 0.7258| 0.0| 8.14|   0|0.538|5.727| 69.5|3.7965|  4|307|   21.0|390.95|11.28|18.2|\n",
            "+-------+----+-----+----+-----+-----+-----+------+---+---+-------+------+-----+----+\n",
            "only showing top 20 rows\n",
            "\n"
          ]
        }
      ],
      "source": [
        "spark1.sql(\"select * from bostonh.bos_housing\").show()"
      ]
    },
    {
      "cell_type": "code",
      "execution_count": 31,
      "metadata": {
        "id": "oTw29D5kVDaF",
        "colab": {
          "base_uri": "https://localhost:8080/"
        },
        "outputId": "992a2b62-e26c-45a1-b6f1-c3a37bc0ecd8"
      },
      "outputs": [
        {
          "output_type": "stream",
          "name": "stdout",
          "text": [
            "+-------+------------------+------------------+------------------+------------------+-------------------+------------------+------------------+-----------------+-----------------+------------------+------------------+------------------+------------------+------------------+\n",
            "|summary|              crim|                zn|             indus|              chas|                nox|                rm|               age|              dis|              rad|               tax|           ptratio|                 b|             lstat|              medv|\n",
            "+-------+------------------+------------------+------------------+------------------+-------------------+------------------+------------------+-----------------+-----------------+------------------+------------------+------------------+------------------+------------------+\n",
            "|  count|               506|               506|               506|               506|                506|               506|               506|              506|              506|               506|               506|               506|               506|               506|\n",
            "|   mean|3.6135235573122535|11.363636363636363|11.136778656126504|0.0691699604743083| 0.5546950592885372| 6.284634387351787| 68.57490118577078|3.795042687747034|9.549407114624506| 408.2371541501976|18.455533596837967|356.67403162055257|12.653063241106723|22.532806324110698|\n",
            "| stddev| 8.601545105332491| 23.32245299451514| 6.860352940897589|0.2539940413404101|0.11587767566755584|0.7026171434153232|28.148861406903595| 2.10571012662761|8.707259384239366|168.53711605495903|2.1649455237144455| 91.29486438415782| 7.141061511348571| 9.197104087379815|\n",
            "|    min|           0.00632|               0.0|              0.46|                 0|              0.385|             3.561|               2.9|           1.1296|                1|               187|              12.6|              0.32|              1.73|               5.0|\n",
            "|    max|           88.9762|             100.0|             27.74|                 1|              0.871|              8.78|             100.0|          12.1265|               24|               711|              22.0|             396.9|             37.97|              50.0|\n",
            "+-------+------------------+------------------+------------------+------------------+-------------------+------------------+------------------+-----------------+-----------------+------------------+------------------+------------------+------------------+------------------+\n",
            "\n"
          ]
        }
      ],
      "source": [
        "df2.describe().show()"
      ]
    },
    {
      "cell_type": "code",
      "execution_count": 32,
      "metadata": {
        "id": "9Mrgdg5rVwLA"
      },
      "outputs": [],
      "source": [
        "from pyspark.ml.linalg import Vectors\n",
        "from pyspark.ml.feature import VectorAssembler"
      ]
    },
    {
      "cell_type": "code",
      "source": [
        "df_va = df2[['crim','zn','indus','chas','nox','rm','age','dis','rad','tax','ptratio','b','lstat']]\n",
        "df_target = df2[['medv']]"
      ],
      "metadata": {
        "id": "7ncU9mCE_Qg8"
      },
      "execution_count": 33,
      "outputs": []
    },
    {
      "cell_type": "code",
      "execution_count": 34,
      "metadata": {
        "id": "pP--k8CDWIWj"
      },
      "outputs": [],
      "source": [
        "assembler = VectorAssembler(inputCols = df2[['crim','zn','indus','chas','nox','rm','age','dis','rad','tax','ptratio','b','lstat']].columns)\n",
        "output = assembler.transform(df2[['crim','zn','indus','chas','nox','rm','age','dis','rad','tax','ptratio','b','lstat','medv']])"
      ]
    },
    {
      "cell_type": "code",
      "execution_count": 35,
      "metadata": {
        "id": "ZFDJBoWMW8hU",
        "colab": {
          "base_uri": "https://localhost:8080/"
        },
        "outputId": "ad6e62ec-9066-4178-d151-2c0e9debe901"
      },
      "outputs": [
        {
          "output_type": "stream",
          "name": "stdout",
          "text": [
            "+-------+----+-----+----+-----+-----+-----+------+---+---+-------+------+-----+----+------------------------------------+\n",
            "|   crim|  zn|indus|chas|  nox|   rm|  age|   dis|rad|tax|ptratio|     b|lstat|medv|VectorAssembler_07638bd41a40__output|\n",
            "+-------+----+-----+----+-----+-----+-----+------+---+---+-------+------+-----+----+------------------------------------+\n",
            "|0.00632|18.0| 2.31|   0|0.538|6.575| 65.2|  4.09|  1|296|   15.3| 396.9| 4.98|24.0|                [0.00632,18.0,2.3...|\n",
            "|0.02731| 0.0| 7.07|   0|0.469|6.421| 78.9|4.9671|  2|242|   17.8| 396.9| 9.14|21.6|                [0.02731,0.0,7.07...|\n",
            "|0.02729| 0.0| 7.07|   0|0.469|7.185| 61.1|4.9671|  2|242|   17.8|392.83| 4.03|34.7|                [0.02729,0.0,7.07...|\n",
            "|0.03237| 0.0| 2.18|   0|0.458|6.998| 45.8|6.0622|  3|222|   18.7|394.63| 2.94|33.4|                [0.03237,0.0,2.18...|\n",
            "|0.06905| 0.0| 2.18|   0|0.458|7.147| 54.2|6.0622|  3|222|   18.7| 396.9| 5.33|36.2|                [0.06905,0.0,2.18...|\n",
            "|0.02985| 0.0| 2.18|   0|0.458| 6.43| 58.7|6.0622|  3|222|   18.7|394.12| 5.21|28.7|                [0.02985,0.0,2.18...|\n",
            "|0.08829|12.5| 7.87|   0|0.524|6.012| 66.6|5.5605|  5|311|   15.2| 395.6|12.43|22.9|                [0.08829,12.5,7.8...|\n",
            "|0.14455|12.5| 7.87|   0|0.524|6.172| 96.1|5.9505|  5|311|   15.2| 396.9|19.15|27.1|                [0.14455,12.5,7.8...|\n",
            "|0.21124|12.5| 7.87|   0|0.524|5.631|100.0|6.0821|  5|311|   15.2|386.63|29.93|16.5|                [0.21124,12.5,7.8...|\n",
            "|0.17004|12.5| 7.87|   0|0.524|6.004| 85.9|6.5921|  5|311|   15.2|386.71| 17.1|18.9|                [0.17004,12.5,7.8...|\n",
            "|0.22489|12.5| 7.87|   0|0.524|6.377| 94.3|6.3467|  5|311|   15.2|392.52|20.45|15.0|                [0.22489,12.5,7.8...|\n",
            "|0.11747|12.5| 7.87|   0|0.524|6.009| 82.9|6.2267|  5|311|   15.2| 396.9|13.27|18.9|                [0.11747,12.5,7.8...|\n",
            "|0.09378|12.5| 7.87|   0|0.524|5.889| 39.0|5.4509|  5|311|   15.2| 390.5|15.71|21.7|                [0.09378,12.5,7.8...|\n",
            "|0.62976| 0.0| 8.14|   0|0.538|5.949| 61.8|4.7075|  4|307|   21.0| 396.9| 8.26|20.4|                [0.62976,0.0,8.14...|\n",
            "|0.63796| 0.0| 8.14|   0|0.538|6.096| 84.5|4.4619|  4|307|   21.0|380.02|10.26|18.2|                [0.63796,0.0,8.14...|\n",
            "|0.62739| 0.0| 8.14|   0|0.538|5.834| 56.5|4.4986|  4|307|   21.0|395.62| 8.47|19.9|                [0.62739,0.0,8.14...|\n",
            "|1.05393| 0.0| 8.14|   0|0.538|5.935| 29.3|4.4986|  4|307|   21.0|386.85| 6.58|23.1|                [1.05393,0.0,8.14...|\n",
            "| 0.7842| 0.0| 8.14|   0|0.538| 5.99| 81.7|4.2579|  4|307|   21.0|386.75|14.67|17.5|                [0.7842,0.0,8.14,...|\n",
            "|0.80271| 0.0| 8.14|   0|0.538|5.456| 36.6|3.7965|  4|307|   21.0|288.99|11.69|20.2|                [0.80271,0.0,8.14...|\n",
            "| 0.7258| 0.0| 8.14|   0|0.538|5.727| 69.5|3.7965|  4|307|   21.0|390.95|11.28|18.2|                [0.7258,0.0,8.14,...|\n",
            "+-------+----+-----+----+-----+-----+-----+------+---+---+-------+------+-----+----+------------------------------------+\n",
            "only showing top 20 rows\n",
            "\n"
          ]
        }
      ],
      "source": [
        "output.show()"
      ]
    },
    {
      "cell_type": "code",
      "execution_count": 37,
      "metadata": {
        "id": "JYx6sGr7W991",
        "colab": {
          "base_uri": "https://localhost:8080/"
        },
        "outputId": "faae8767-eb07-4e20-ff8e-2f6ce1f1133d"
      },
      "outputs": [
        {
          "output_type": "stream",
          "name": "stdout",
          "text": [
            "+------------------------------------+----+\n",
            "|VectorAssembler_07638bd41a40__output|medv|\n",
            "+------------------------------------+----+\n",
            "|                [0.00632,18.0,2.3...|24.0|\n",
            "|                [0.02731,0.0,7.07...|21.6|\n",
            "|                [0.02729,0.0,7.07...|34.7|\n",
            "|                [0.03237,0.0,2.18...|33.4|\n",
            "|                [0.06905,0.0,2.18...|36.2|\n",
            "|                [0.02985,0.0,2.18...|28.7|\n",
            "|                [0.08829,12.5,7.8...|22.9|\n",
            "|                [0.14455,12.5,7.8...|27.1|\n",
            "|                [0.21124,12.5,7.8...|16.5|\n",
            "|                [0.17004,12.5,7.8...|18.9|\n",
            "|                [0.22489,12.5,7.8...|15.0|\n",
            "|                [0.11747,12.5,7.8...|18.9|\n",
            "|                [0.09378,12.5,7.8...|21.7|\n",
            "|                [0.62976,0.0,8.14...|20.4|\n",
            "|                [0.63796,0.0,8.14...|18.2|\n",
            "|                [0.62739,0.0,8.14...|19.9|\n",
            "|                [1.05393,0.0,8.14...|23.1|\n",
            "|                [0.7842,0.0,8.14,...|17.5|\n",
            "|                [0.80271,0.0,8.14...|20.2|\n",
            "|                [0.7258,0.0,8.14,...|18.2|\n",
            "+------------------------------------+----+\n",
            "only showing top 20 rows\n",
            "\n"
          ]
        }
      ],
      "source": [
        "finalized_data = output.select(\"VectorAssembler_07638bd41a40__output\", \"medv\")\n",
        "finalized_data.show()"
      ]
    },
    {
      "cell_type": "code",
      "execution_count": 49,
      "metadata": {
        "id": "G4YMq0r8YO3z"
      },
      "outputs": [],
      "source": [
        "df_final = finalized_data.withColumnRenamed(\"VectorAssembler_07638bd41a40__output\", \"Attributes\")"
      ]
    },
    {
      "cell_type": "code",
      "execution_count": 50,
      "metadata": {
        "id": "_0ElPN-WYW1J",
        "colab": {
          "base_uri": "https://localhost:8080/"
        },
        "outputId": "360aa72a-170e-41f4-95a0-861e82caca2c"
      },
      "outputs": [
        {
          "output_type": "stream",
          "name": "stdout",
          "text": [
            "+--------------------+----+\n",
            "|          Attributes|medv|\n",
            "+--------------------+----+\n",
            "|[0.00632,18.0,2.3...|24.0|\n",
            "|[0.02731,0.0,7.07...|21.6|\n",
            "|[0.02729,0.0,7.07...|34.7|\n",
            "|[0.03237,0.0,2.18...|33.4|\n",
            "|[0.06905,0.0,2.18...|36.2|\n",
            "|[0.02985,0.0,2.18...|28.7|\n",
            "|[0.08829,12.5,7.8...|22.9|\n",
            "|[0.14455,12.5,7.8...|27.1|\n",
            "|[0.21124,12.5,7.8...|16.5|\n",
            "|[0.17004,12.5,7.8...|18.9|\n",
            "|[0.22489,12.5,7.8...|15.0|\n",
            "|[0.11747,12.5,7.8...|18.9|\n",
            "|[0.09378,12.5,7.8...|21.7|\n",
            "|[0.62976,0.0,8.14...|20.4|\n",
            "|[0.63796,0.0,8.14...|18.2|\n",
            "|[0.62739,0.0,8.14...|19.9|\n",
            "|[1.05393,0.0,8.14...|23.1|\n",
            "|[0.7842,0.0,8.14,...|17.5|\n",
            "|[0.80271,0.0,8.14...|20.2|\n",
            "|[0.7258,0.0,8.14,...|18.2|\n",
            "+--------------------+----+\n",
            "only showing top 20 rows\n",
            "\n"
          ]
        }
      ],
      "source": [
        "df_final.show()"
      ]
    },
    {
      "cell_type": "code",
      "execution_count": 51,
      "metadata": {
        "id": "H1Skz60MXNkh"
      },
      "outputs": [],
      "source": [
        "splits = df_final.randomSplit([0.75, 0.2])\n",
        "train_df = splits[0]\n",
        "test_df = splits[1]"
      ]
    },
    {
      "cell_type": "code",
      "source": [
        "train_df.show()"
      ],
      "metadata": {
        "id": "wFtmeGktzhAc",
        "colab": {
          "base_uri": "https://localhost:8080/"
        },
        "outputId": "84ac6753-9c05-4a19-a02c-b4884cbfa77d"
      },
      "execution_count": 52,
      "outputs": [
        {
          "output_type": "stream",
          "name": "stdout",
          "text": [
            "+--------------------+----+\n",
            "|          Attributes|medv|\n",
            "+--------------------+----+\n",
            "|[0.00632,18.0,2.3...|24.0|\n",
            "|[0.01301,35.0,1.5...|32.7|\n",
            "|[0.0136,75.0,4.0,...|18.9|\n",
            "|[0.01381,80.0,0.4...|50.0|\n",
            "|[0.01432,100.0,1....|31.6|\n",
            "|[0.01439,60.0,2.9...|29.1|\n",
            "|[0.01501,80.0,2.0...|24.5|\n",
            "|[0.01501,90.0,1.2...|50.0|\n",
            "|[0.01538,90.0,3.7...|44.0|\n",
            "|[0.0187,85.0,4.15...|23.1|\n",
            "|[0.01951,17.5,1.3...|33.0|\n",
            "|[0.01965,80.0,1.7...|20.1|\n",
            "|[0.02009,95.0,2.6...|50.0|\n",
            "|[0.02055,85.0,0.7...|24.7|\n",
            "|[0.02177,82.5,2.0...|42.3|\n",
            "|[0.02498,0.0,1.89...|16.5|\n",
            "|[0.02729,0.0,7.07...|34.7|\n",
            "|[0.02731,0.0,7.07...|21.6|\n",
            "|[0.02763,75.0,2.9...|30.8|\n",
            "|[0.02875,28.0,15....|25.0|\n",
            "+--------------------+----+\n",
            "only showing top 20 rows\n",
            "\n"
          ]
        }
      ]
    },
    {
      "cell_type": "code",
      "source": [
        "from pyspark.ml.regression import LinearRegression\n",
        "from pyspark.ml.feature import VectorAssembler"
      ],
      "metadata": {
        "id": "gy7MkSZNvoNM"
      },
      "execution_count": 53,
      "outputs": []
    },
    {
      "cell_type": "code",
      "execution_count": 54,
      "metadata": {
        "id": "zVdgvf9_X5zG"
      },
      "outputs": [],
      "source": [
        "\n",
        "from pyspark.ml.regression import LinearRegression\n",
        "regressor = LinearRegression(featuresCol = 'Attributes', labelCol = 'medv')\n",
        "model_reg_train = regressor.fit(train_df)"
      ]
    },
    {
      "cell_type": "code",
      "execution_count": 55,
      "metadata": {
        "id": "szPijZ5lY21c",
        "colab": {
          "base_uri": "https://localhost:8080/"
        },
        "outputId": "09219a45-8c41-411e-f463-ce3a32c086f5"
      },
      "outputs": [
        {
          "output_type": "stream",
          "name": "stdout",
          "text": [
            "Regressor: LinearRegression_1d7f8934d71b\n",
            "(Fit) LinearRegressionModel: uid=LinearRegression_1d7f8934d71b, numFeatures=13\n"
          ]
        }
      ],
      "source": [
        "print(\"Regressor:\", regressor)\n",
        "print(\"(Fit)\", model_reg_train)"
      ]
    },
    {
      "cell_type": "code",
      "source": [
        "pred_results_train = model_reg_train.evaluate(train_df)\n",
        "pred_results_train.predictions.show()"
      ],
      "metadata": {
        "id": "c-pCBH7luKKM",
        "colab": {
          "base_uri": "https://localhost:8080/"
        },
        "outputId": "d0095e5c-3be6-485a-891f-99c55fc43d52"
      },
      "execution_count": 56,
      "outputs": [
        {
          "output_type": "stream",
          "name": "stdout",
          "text": [
            "+--------------------+----+------------------+\n",
            "|          Attributes|medv|        prediction|\n",
            "+--------------------+----+------------------+\n",
            "|[0.00632,18.0,2.3...|24.0|30.187888438297485|\n",
            "|[0.01301,35.0,1.5...|32.7|31.093659014779064|\n",
            "|[0.0136,75.0,4.0,...|18.9|15.819080826898801|\n",
            "|[0.01381,80.0,0.4...|50.0| 41.14132287890567|\n",
            "|[0.01432,100.0,1....|31.6| 33.18540681680883|\n",
            "|[0.01439,60.0,2.9...|29.1|31.707529235469572|\n",
            "|[0.01501,80.0,2.0...|24.5|  27.7907709787755|\n",
            "|[0.01501,90.0,1.2...|50.0| 44.84416111254373|\n",
            "|[0.01538,90.0,3.7...|44.0| 37.73829787428837|\n",
            "|[0.0187,85.0,4.15...|23.1| 25.57773600025404|\n",
            "|[0.01951,17.5,1.3...|33.0|24.376568644328145|\n",
            "|[0.01965,80.0,1.7...|20.1| 20.59667014387849|\n",
            "|[0.02009,95.0,2.6...|50.0| 43.37424116849528|\n",
            "|[0.02055,85.0,0.7...|24.7|25.255004797811743|\n",
            "|[0.02177,82.5,2.0...|42.3| 37.54118306388039|\n",
            "|[0.02498,0.0,1.89...|16.5| 22.84671128955553|\n",
            "|[0.02729,0.0,7.07...|34.7|31.108724523098367|\n",
            "|[0.02731,0.0,7.07...|21.6| 25.43239623073849|\n",
            "|[0.02763,75.0,2.9...|30.8| 31.21781990166757|\n",
            "|[0.02875,28.0,15....|25.0| 28.85528654559362|\n",
            "+--------------------+----+------------------+\n",
            "only showing top 20 rows\n",
            "\n"
          ]
        }
      ]
    },
    {
      "cell_type": "code",
      "source": [
        "model_reg_test = regressor.fit(test_df)\n",
        "print(\"Regressor:\", regressor)\n",
        "print(\"(Fit)\", model_reg_test)"
      ],
      "metadata": {
        "id": "6Mm6dw9evgHZ",
        "colab": {
          "base_uri": "https://localhost:8080/"
        },
        "outputId": "02a631be-08b3-47ae-c089-8b880275e9fb"
      },
      "execution_count": 57,
      "outputs": [
        {
          "output_type": "stream",
          "name": "stdout",
          "text": [
            "Regressor: LinearRegression_1d7f8934d71b\n",
            "(Fit) LinearRegressionModel: uid=LinearRegression_1d7f8934d71b, numFeatures=13\n"
          ]
        }
      ]
    },
    {
      "cell_type": "code",
      "source": [
        "pred_results_test = model_reg_test.evaluate(test_df)\n",
        "pred_results_test.predictions.show()"
      ],
      "metadata": {
        "id": "TYpysTGhwPDe",
        "colab": {
          "base_uri": "https://localhost:8080/"
        },
        "outputId": "3bee5920-0ff4-44b6-eb91-81799a7d74fb"
      },
      "execution_count": 58,
      "outputs": [
        {
          "output_type": "stream",
          "name": "stdout",
          "text": [
            "+--------------------+----+------------------+\n",
            "|          Attributes|medv|        prediction|\n",
            "+--------------------+----+------------------+\n",
            "|[0.00906,90.0,2.9...|32.2| 30.83721803500684|\n",
            "|[0.01096,55.0,2.2...|22.0|25.739098759447124|\n",
            "|[0.01311,90.0,1.2...|35.4|31.093540977839318|\n",
            "|[0.01709,90.0,2.0...|30.1| 24.83070596237243|\n",
            "|[0.01778,95.0,1.4...|32.9|30.392319161333738|\n",
            "|[0.02187,60.0,2.9...|31.1|31.998530041490923|\n",
            "|[0.02543,55.0,3.7...|23.9|27.192847796253368|\n",
            "|[0.03466,35.0,6.0...|19.4|22.858553800916425|\n",
            "|[0.03584,80.0,3.3...|23.5|30.323280714486728|\n",
            "|[0.03738,0.0,5.19...|20.7|22.005299301088893|\n",
            "|[0.04203,28.0,15....|22.9| 29.11058341316901|\n",
            "|[0.04297,52.5,5.3...|24.8|25.712360653544657|\n",
            "|[0.0456,0.0,13.89...|23.3| 26.35936488081803|\n",
            "|[0.04666,80.0,1.5...|30.3|30.643375308320646|\n",
            "|[0.04819,80.0,3.6...|21.9| 23.03581226108866|\n",
            "|[0.05023,35.0,6.0...|17.1|18.797766458908363|\n",
            "|[0.05059,0.0,4.49...|23.9| 23.64461464024321|\n",
            "|[0.05188,0.0,4.49...|22.5|20.706897204702575|\n",
            "|[0.05302,0.0,3.41...|28.7| 30.27104958374019|\n",
            "|[0.05497,0.0,5.19...|19.0|21.398950166446358|\n",
            "+--------------------+----+------------------+\n",
            "only showing top 20 rows\n",
            "\n"
          ]
        }
      ]
    },
    {
      "cell_type": "code",
      "source": [
        "print(\"Train Coefficients: \\n\" + str(model_reg_train.coefficients))\n",
        "print(\"Train Intercept: \\n\" + str(model_reg_train.intercept))\n",
        "\n",
        "print(\"\\nTest Coefficients: \\n\" + str(model_reg_test.coefficients))\n",
        "print(\"Test Intercept: \\n\" + str(model_reg_test.intercept))"
      ],
      "metadata": {
        "id": "wxp5z8Z2wcek",
        "colab": {
          "base_uri": "https://localhost:8080/"
        },
        "outputId": "9d8e4855-b5d1-4bc2-ac58-f40b91dae5b4"
      },
      "execution_count": 59,
      "outputs": [
        {
          "output_type": "stream",
          "name": "stdout",
          "text": [
            "Train Coefficients: \n",
            "[-0.10406460782535162,0.04120904418641659,0.023722820013608887,2.446374978862072,-18.0577519398563,4.239315084958197,0.0021796221293328153,-1.3461918478966854,0.24511948130758007,-0.011175604716257302,-0.9458248958268735,0.01051251181347679,-0.4929692139222387]\n",
            "Train Intercept: \n",
            "32.41392193955905\n",
            "\n",
            "Test Coefficients: \n",
            "[0.32882513513886247,0.060675901471053874,0.07676787619986393,2.673686699651937,-5.543586413879629,3.5289850404178855,-0.021973932132658223,-1.6197668004102763,0.30014277989012816,-0.015537161307127215,-0.8163954095054908,0.01182883034686875,-0.6918960646673543]\n",
            "Test Intercept: \n",
            "32.023681633839054\n"
          ]
        }
      ]
    },
    {
      "cell_type": "code",
      "source": [
        "trainingSummary = model_reg_train.summary\n",
        "print(\"RMSE: %f\" % trainingSummary.rootMeanSquaredError)\n",
        "print(\"r2: %f\" % trainingSummary.r2)"
      ],
      "metadata": {
        "id": "k4XVyvfWw1U5",
        "colab": {
          "base_uri": "https://localhost:8080/"
        },
        "outputId": "3e16fd7a-e840-4c74-a334-0e9ced62608f"
      },
      "execution_count": 60,
      "outputs": [
        {
          "output_type": "stream",
          "name": "stdout",
          "text": [
            "RMSE: 4.445616\n",
            "r2: 0.768359\n"
          ]
        }
      ]
    },
    {
      "cell_type": "code",
      "source": [
        "testSummary = model_reg_test.summary\n",
        "print(\"RMSE: %f\" % testSummary.rootMeanSquaredError)\n",
        "print(\"r2: %f\" % testSummary.r2)"
      ],
      "metadata": {
        "id": "64y3sd3Jx37m",
        "colab": {
          "base_uri": "https://localhost:8080/"
        },
        "outputId": "2de5cc51-dbb3-4c97-8cbf-9bdfe09e2465"
      },
      "execution_count": 61,
      "outputs": [
        {
          "output_type": "stream",
          "name": "stdout",
          "text": [
            "RMSE: 4.980310\n",
            "r2: 0.690585\n"
          ]
        }
      ]
    },
    {
      "cell_type": "code",
      "source": [
        "train_df.describe().show()"
      ],
      "metadata": {
        "id": "K5SWd33sx_Hm",
        "colab": {
          "base_uri": "https://localhost:8080/"
        },
        "outputId": "df254dde-24a8-4739-8d69-24fc2f5bc450"
      },
      "execution_count": 62,
      "outputs": [
        {
          "output_type": "stream",
          "name": "stdout",
          "text": [
            "+-------+-----------------+\n",
            "|summary|             medv|\n",
            "+-------+-----------------+\n",
            "|  count|              399|\n",
            "|   mean|22.30676691729324|\n",
            "| stddev|9.248456577648597|\n",
            "|    min|              5.0|\n",
            "|    max|             50.0|\n",
            "+-------+-----------------+\n",
            "\n"
          ]
        }
      ]
    },
    {
      "cell_type": "code",
      "source": [
        "test_df.describe().show()"
      ],
      "metadata": {
        "id": "j-SykKdjyEFv",
        "colab": {
          "base_uri": "https://localhost:8080/"
        },
        "outputId": "c965b48c-9152-44a3-c07e-4585f822ae48"
      },
      "execution_count": 63,
      "outputs": [
        {
          "output_type": "stream",
          "name": "stdout",
          "text": [
            "+-------+-----------------+\n",
            "|summary|             medv|\n",
            "+-------+-----------------+\n",
            "|  count|              107|\n",
            "|   mean|23.37570093457944|\n",
            "| stddev|8.995479379566532|\n",
            "|    min|              8.1|\n",
            "|    max|             50.0|\n",
            "+-------+-----------------+\n",
            "\n"
          ]
        }
      ]
    },
    {
      "cell_type": "code",
      "source": [
        "train_result = model_reg_train.evaluate(train_df)\n",
        "print(\"Root Mean Squared Error (RMSE) on test data = %g\" % train_result.rootMeanSquaredError)"
      ],
      "metadata": {
        "id": "5ggaH_4Py5dy",
        "colab": {
          "base_uri": "https://localhost:8080/"
        },
        "outputId": "20c2e0b9-bd2e-41a1-ba30-c31d94a26f6a"
      },
      "execution_count": 64,
      "outputs": [
        {
          "output_type": "stream",
          "name": "stdout",
          "text": [
            "Root Mean Squared Error (RMSE) on test data = 4.44562\n"
          ]
        }
      ]
    },
    {
      "cell_type": "code",
      "source": [
        "test_result = model_reg_test.evaluate(test_df)\n",
        "print(\"Root Mean Squared Error (RMSE) on test data = %g\" % test_result.rootMeanSquaredError)"
      ],
      "metadata": {
        "id": "EKUuSuvnzHFM",
        "colab": {
          "base_uri": "https://localhost:8080/"
        },
        "outputId": "b9667284-374c-407f-eab8-2815e92b4d75"
      },
      "execution_count": 65,
      "outputs": [
        {
          "output_type": "stream",
          "name": "stdout",
          "text": [
            "Root Mean Squared Error (RMSE) on test data = 4.98031\n"
          ]
        }
      ]
    },
    {
      "cell_type": "code",
      "source": [
        "print('Train Rsquared Error :',train_result.r2)"
      ],
      "metadata": {
        "id": "QBt-u9PvzOvR",
        "colab": {
          "base_uri": "https://localhost:8080/"
        },
        "outputId": "212c5f88-5081-412a-8f9d-435b64f62f58"
      },
      "execution_count": 66,
      "outputs": [
        {
          "output_type": "stream",
          "name": "stdout",
          "text": [
            "Train Rsquared Error : 0.768359155502735\n"
          ]
        }
      ]
    },
    {
      "cell_type": "code",
      "source": [
        "print('Test Rsquared Error :',test_result.r2)"
      ],
      "metadata": {
        "id": "Eif3jxzY0TGx",
        "colab": {
          "base_uri": "https://localhost:8080/"
        },
        "outputId": "92425f6c-183a-4497-c947-f0d34d6c2f1c"
      },
      "execution_count": 67,
      "outputs": [
        {
          "output_type": "stream",
          "name": "stdout",
          "text": [
            "Test Rsquared Error : 0.6905845163401205\n"
          ]
        }
      ]
    },
    {
      "cell_type": "code",
      "source": [
        "print(\"Train MSE: \", model_reg_train.summary.meanSquaredError)\n",
        "print(\"Train MAE: \", model_reg_train.summary.meanAbsoluteError)\n",
        "\n",
        "print(\"\\nTest MSE: \", model_reg_test.summary.meanSquaredError)\n",
        "print(\"Test MAE: \", model_reg_test.summary.meanAbsoluteError)"
      ],
      "metadata": {
        "id": "xFSrO16M0hP1",
        "colab": {
          "base_uri": "https://localhost:8080/"
        },
        "outputId": "896ff1ef-f7a0-4259-be49-1bde16d34cb4"
      },
      "execution_count": 68,
      "outputs": [
        {
          "output_type": "stream",
          "name": "stdout",
          "text": [
            "Train MSE:  19.7634991623772\n",
            "Train MAE:  3.151779460399979\n",
            "\n",
            "Test MSE:  24.803487832198034\n",
            "Test MAE:  3.543329496642734\n"
          ]
        }
      ]
    },
    {
      "cell_type": "code",
      "source": [
        "train_data = model_reg_train.transform(train_df)\n",
        "train_data.show(2)\n",
        " \n",
        "x1_ax = range(0, train_data.count())\n",
        "y1_pred = train_data.select(\"prediction\").collect()\n",
        "y1_orig = train_data.select(\"medv\").collect()  "
      ],
      "metadata": {
        "id": "vH5KXYq503jD",
        "colab": {
          "base_uri": "https://localhost:8080/"
        },
        "outputId": "3f28bfdd-0fa4-4b25-c8d1-bc8d84397362"
      },
      "execution_count": 69,
      "outputs": [
        {
          "output_type": "stream",
          "name": "stdout",
          "text": [
            "+--------------------+----+------------------+\n",
            "|          Attributes|medv|        prediction|\n",
            "+--------------------+----+------------------+\n",
            "|[0.00632,18.0,2.3...|24.0|30.187888438297485|\n",
            "|[0.01301,35.0,1.5...|32.7|31.093659014779064|\n",
            "+--------------------+----+------------------+\n",
            "only showing top 2 rows\n",
            "\n"
          ]
        }
      ]
    },
    {
      "cell_type": "code",
      "source": [
        "plt.plot(x1_ax, y1_orig, label=\"original\")\n",
        "plt.plot(x1_ax, y1_pred, label=\"predicted\")\n",
        "plt.title(\"Boston train and predicted data\")\n",
        "plt.xlabel('X-axis')\n",
        "plt.ylabel('Y-axis')\n",
        "plt.legend(loc='best',fancybox=True, shadow=True)\n",
        "plt.grid(True)\n",
        "plt.show()  \n",
        " "
      ],
      "metadata": {
        "id": "7Bk-mz7U1OE6",
        "colab": {
          "base_uri": "https://localhost:8080/",
          "height": 295
        },
        "outputId": "a253597b-432d-49d4-d776-3d9d0596a46d"
      },
      "execution_count": 70,
      "outputs": [
        {
          "output_type": "display_data",
          "data": {
            "text/plain": [
              "<Figure size 432x288 with 1 Axes>"
            ],
            "image/png": "[encoded data removed]"
          },
          "metadata": {
            "needs_background": "light"
          }
        }
      ]
    },
    {
      "cell_type": "code",
      "source": [
        "test_data = model_reg_test.transform(test_df)\n",
        "test_data.show(2)\n",
        " \n",
        "x2_ax = range(0, test_data.count())\n",
        "y2_pred = test_data.select(\"prediction\").collect()\n",
        "y2_orig = test_data.select(\"medv\").collect()  "
      ],
      "metadata": {
        "id": "EbLsR0Mj1kLU",
        "colab": {
          "base_uri": "https://localhost:8080/"
        },
        "outputId": "0488ef2f-d28b-4dac-985f-25b0b79d9c0c"
      },
      "execution_count": 71,
      "outputs": [
        {
          "output_type": "stream",
          "name": "stdout",
          "text": [
            "+--------------------+----+------------------+\n",
            "|          Attributes|medv|        prediction|\n",
            "+--------------------+----+------------------+\n",
            "|[0.00906,90.0,2.9...|32.2| 30.83721803500684|\n",
            "|[0.01096,55.0,2.2...|22.0|25.739098759447124|\n",
            "+--------------------+----+------------------+\n",
            "only showing top 2 rows\n",
            "\n"
          ]
        }
      ]
    },
    {
      "cell_type": "code",
      "source": [
        "plt.plot(x2_ax, y2_orig, label=\"original\")\n",
        "plt.plot(x2_ax, y2_pred, label=\"predicted\")\n",
        "plt.title(\"Boston test and predicted data\")\n",
        "plt.xlabel('X-axis')\n",
        "plt.ylabel('Y-axis')\n",
        "plt.legend(loc='best',fancybox=True, shadow=True)\n",
        "plt.grid(True)\n",
        "plt.show()  \n",
        " "
      ],
      "metadata": {
        "id": "59g0AWVE2PFB",
        "colab": {
          "base_uri": "https://localhost:8080/",
          "height": 295
        },
        "outputId": "a59dda5f-2a60-4c79-f427-1fb77b407760"
      },
      "execution_count": 72,
      "outputs": [
        {
          "output_type": "display_data",
          "data": {
            "text/plain": [
              "<Figure size 432x288 with 1 Axes>"
            ],
            "image/png": "[encoded data removed]"
          },
          "metadata": {
            "needs_background": "light"
          }
        }
      ]
    },
    {
      "cell_type": "code",
      "source": [],
      "metadata": {
        "id": "eg36i9My2SoA"
      },
      "execution_count": 72,
      "outputs": []
    }
  ],
  "metadata": {
    "colab": {
      "provenance": []
    },
    "kernelspec": {
      "display_name": "Python 3",
      "name": "python3"
    },
    "language_info": {
      "name": "python"
    }
  },
  "nbformat": 4,
  "nbformat_minor": 0
}